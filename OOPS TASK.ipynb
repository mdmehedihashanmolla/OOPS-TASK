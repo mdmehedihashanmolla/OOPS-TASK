{
 "cells": [
  {
   "cell_type": "markdown",
   "id": "d11d8f2b-d0cc-47d5-b56e-6edca66ab33f",
   "metadata": {},
   "source": [
    "###  Q1. Create a vehicle class with an init method having instance variables as name_of_vehicle, max_speed and average_of_vehicle."
   ]
  },
  {
   "cell_type": "code",
   "execution_count": 10,
   "id": "2137479f-086f-43d3-8560-844f56bde0a1",
   "metadata": {},
   "outputs": [
    {
     "name": "stdout",
     "output_type": "stream",
     "text": [
      "BMW M5\n",
      "56\n",
      "78\n"
     ]
    }
   ],
   "source": [
    "class vehicle:\n",
    "    def __init__(self, vehicle_name, max_speed,average_speed):\n",
    "        self.vehicle_name = vehicle_name\n",
    "        self.max_speed = max_speed\n",
    "        self.average_speed = average_speed\n",
    "        \n",
    "\n",
    "obje = vehicle('BMW M5', 56, 78)\n",
    "print(obje.vehicle_name)\n",
    "print(obje.max_speed)\n",
    "print(obje.average_speed)"
   ]
  },
  {
   "cell_type": "markdown",
   "id": "3b994c0e-ca18-491e-b1c5-d146c1695cbe",
   "metadata": {},
   "source": [
    "### Q2. Create a child class car from the vehicle class created in Que 1, which will inherit the vehicle class.Create a method named seating_capacity which takes capacity as an argument and returns the name of the vehicle and its seating capacity."
   ]
  },
  {
   "cell_type": "code",
   "execution_count": 12,
   "id": "f28de3b8-711e-4eca-b9eb-042f6e22e22b",
   "metadata": {},
   "outputs": [
    {
     "name": "stdout",
     "output_type": "stream",
     "text": [
      "BMW5 has a setting capacity of 6\n"
     ]
    }
   ],
   "source": [
    "class vehicle:\n",
    "    def __init__(self, vehicle_name, max_speed,average_speed):\n",
    "        self.vehicle_name = vehicle_name\n",
    "        self.max_speed = max_speed\n",
    "        self.average_speed = average_speed\n",
    "       \n",
    "class Car(vehicle):\n",
    "    \n",
    "    def seating_capacity(self, capacity):\n",
    "        return f\"{self.vehicle_name} has a setting capacity of {capacity}\"\n",
    "\n",
    "obje = Car(\"BMW5\",65,98)\n",
    "print(obje.seating_capacity(6))\n",
    "        "
   ]
  },
  {
   "cell_type": "markdown",
   "id": "226daab3-9954-404b-a614-e2c79581ce55",
   "metadata": {},
   "source": [
    "### Q3. What is multiple inheritance? Write a python code to demonstrate multiple inheritance."
   ]
  },
  {
   "cell_type": "markdown",
   "id": "7c10301f-cc17-4914-8176-cc8b942532bb",
   "metadata": {},
   "source": [
    "### --> Multiple inheritance is when a class inherits properties from two or more parent classes."
   ]
  },
  {
   "cell_type": "code",
   "execution_count": 13,
   "id": "8050093f-630e-44d7-ae10-7575d1c2f360",
   "metadata": {},
   "outputs": [
    {
     "name": "stdout",
     "output_type": "stream",
     "text": [
      "This is an example of multiple inheritance\n",
      "My name is Mehedi and my product is Coffee\n",
      "My favourite car is Lamborginni and it was manufactured in 2025\n"
     ]
    }
   ],
   "source": [
    "class BusinessMan:\n",
    "    def __init__(self, name, product):\n",
    "        self.name = name\n",
    "        self.product = product\n",
    "        \n",
    "    def set_business_data(self, name, product):\n",
    "        self.name = name\n",
    "        self.product = product\n",
    "        \n",
    "    def return_data(self):\n",
    "        print(f\"My name is {self.name} and my product is {self.product}\")\n",
    "        \n",
    "class Car:\n",
    "    def __init__(self, car_name, car_year):\n",
    "        self.car_name = car_name\n",
    "        self.car_year = car_year\n",
    "              \n",
    "    def set_car_data(self, car_name, car_year):\n",
    "        self.car_name = car_name\n",
    "        self.car_year = car_year\n",
    "        \n",
    "    def return_car_data(self):\n",
    "        print(f\"My favourite car is {self.car_name} and it was manufactured in {self.car_year}\")\n",
    "    \n",
    "class Multiple(BusinessMan, Car):\n",
    "    def __init__(self, name, product, car_name, car_year):\n",
    "        BusinessMan.__init__(self, name, product)\n",
    "        Car.__init__(self, car_name, car_year)\n",
    "        print(\"This is an example of multiple inheritance\")\n",
    "\n",
    "o = Multiple(\"Mehedi\", \"Tea\", \"Lamborginni\", 2025)\n",
    "o.set_business_data(\"Mehedi\", \"Coffee\")\n",
    "o.return_data()            # calling return_data method of the Multiple class\n",
    "o.return_car_data()            # calling return_data method of the Car class"
   ]
  },
  {
   "cell_type": "markdown",
   "id": "88cfab1a-3b62-499b-add5-9488a5c5de8b",
   "metadata": {},
   "source": [
    "### Q4. What are getter and setter in python? Create a class and create a getter and a setter method in this class."
   ]
  },
  {
   "cell_type": "markdown",
   "id": "7309956b-e1c3-4543-9fc8-09a93edfe06f",
   "metadata": {},
   "source": [
    "getter:\n",
    "    A method that allows you to access an attribute in a given class\n",
    "\n",
    "Setter:\n",
    "    The setter is a method that is used to set the property's value. "
   ]
  },
  {
   "cell_type": "code",
   "execution_count": 16,
   "id": "39ef1083-0259-4181-b273-f39ac7e955c1",
   "metadata": {},
   "outputs": [
    {
     "name": "stdout",
     "output_type": "stream",
     "text": [
      "Bugatti Chiron\n",
      "BMW M5\n"
     ]
    }
   ],
   "source": [
    "class Car:\n",
    "    def __init__(self, Car_Name):\n",
    "        self.Car_Name = Car_Name\n",
    "\n",
    "    def set_carName(self, New_car):\n",
    "        if New_car:\n",
    "            self.Car_Name = New_car\n",
    "\n",
    "    def get_carName(self):\n",
    "        return self.Car_Name\n",
    "\n",
    "\n",
    "car = Car(\"Bugatti Chiron\")\n",
    "print(car.get_carName())  # Output: Bugatti Chiron\n",
    "\n",
    "car.set_carName(\"BMW M5\")\n",
    "print(car.get_carName())  # Output: BMW M5\n"
   ]
  },
  {
   "cell_type": "markdown",
   "id": "cb0eee56-b86a-4193-91b7-b2107ccbc906",
   "metadata": {},
   "source": [
    "## Q5.What is method overriding in python? Write a python code to demonstrate method overriding."
   ]
  },
  {
   "cell_type": "markdown",
   "id": "681cb35d-c4a3-4d5d-a887-a5d8e1800570",
   "metadata": {},
   "source": [
    "### Answer: Method overriding is a feature of object-oriented programming languages where the subclass or child class can provide the program with specific characteristics or a specific implementation process of data provided that are already defined in the parent class or superclass."
   ]
  },
  {
   "cell_type": "code",
   "execution_count": null,
   "id": "af9c1d6b-7743-42b1-b30e-3382879e40f0",
   "metadata": {},
   "outputs": [],
   "source": [
    "class Vehicle:\n",
    "    def show_info(self):\n",
    "        print(\"This is a vehicle.\")\n",
    "\n",
    "class Car(Vehicle):\n",
    "    def show_info(self):\n",
    "        print(\"This is a car.\")\n",
    "\n",
    "vehicle = Vehicle()\n",
    "vehicle.show_info()  # Output: This is a vehicle\n",
    "\n",
    "car = Car()\n",
    "car.show_info()  # Output: This is a car\n"
   ]
  }
 ],
 "metadata": {
  "kernelspec": {
   "display_name": "Python 3 (ipykernel)",
   "language": "python",
   "name": "python3"
  },
  "language_info": {
   "codemirror_mode": {
    "name": "ipython",
    "version": 3
   },
   "file_extension": ".py",
   "mimetype": "text/x-python",
   "name": "python",
   "nbconvert_exporter": "python",
   "pygments_lexer": "ipython3",
   "version": "3.10.6"
  }
 },
 "nbformat": 4,
 "nbformat_minor": 5
}
